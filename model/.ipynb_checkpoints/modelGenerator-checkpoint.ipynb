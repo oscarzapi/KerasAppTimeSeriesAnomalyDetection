{
 "cells": [
  {
   "cell_type": "markdown",
   "id": "0262d14d",
   "metadata": {},
   "source": [
    "##### This notebook will generate the Keras model to forecast timeseries anomalies on the Numenta Anomaly Benchmark (NAB) dataset.\n",
    "\n",
    "\n",
    "The dataset is publicly published, and for the purpose of this study we will analyze specifically 'art_daily_small_noise.csv' for training and the 'art_daily_jumpsup.csv' for testing."
   ]
  },
  {
   "cell_type": "code",
   "execution_count": 43,
   "id": "26a69ea5",
   "metadata": {},
   "outputs": [],
   "source": [
    "# Import libraries\n",
    "import numpy as np\n",
    "import pandas as pd\n",
    "from tensorflow import keras\n",
    "from tensorflow.keras import layers\n",
    "from matplotlib import pyplot as plt\n",
    "import tensorflow as tf"
   ]
  },
  {
   "cell_type": "code",
   "execution_count": 6,
   "id": "85e48497",
   "metadata": {},
   "outputs": [
    {
     "data": {
      "text/html": [
       "<div>\n",
       "<style scoped>\n",
       "    .dataframe tbody tr th:only-of-type {\n",
       "        vertical-align: middle;\n",
       "    }\n",
       "\n",
       "    .dataframe tbody tr th {\n",
       "        vertical-align: top;\n",
       "    }\n",
       "\n",
       "    .dataframe thead th {\n",
       "        text-align: right;\n",
       "    }\n",
       "</style>\n",
       "<table border=\"1\" class=\"dataframe\">\n",
       "  <thead>\n",
       "    <tr style=\"text-align: right;\">\n",
       "      <th></th>\n",
       "      <th>value</th>\n",
       "    </tr>\n",
       "    <tr>\n",
       "      <th>timestamp</th>\n",
       "      <th></th>\n",
       "    </tr>\n",
       "  </thead>\n",
       "  <tbody>\n",
       "    <tr>\n",
       "      <th>2014-04-01 00:00:00</th>\n",
       "      <td>18.324919</td>\n",
       "    </tr>\n",
       "    <tr>\n",
       "      <th>2014-04-01 00:05:00</th>\n",
       "      <td>21.970327</td>\n",
       "    </tr>\n",
       "    <tr>\n",
       "      <th>2014-04-01 00:10:00</th>\n",
       "      <td>18.624806</td>\n",
       "    </tr>\n",
       "    <tr>\n",
       "      <th>2014-04-01 00:15:00</th>\n",
       "      <td>21.953684</td>\n",
       "    </tr>\n",
       "    <tr>\n",
       "      <th>2014-04-01 00:20:00</th>\n",
       "      <td>21.909120</td>\n",
       "    </tr>\n",
       "  </tbody>\n",
       "</table>\n",
       "</div>"
      ],
      "text/plain": [
       "                         value\n",
       "timestamp                     \n",
       "2014-04-01 00:00:00  18.324919\n",
       "2014-04-01 00:05:00  21.970327\n",
       "2014-04-01 00:10:00  18.624806\n",
       "2014-04-01 00:15:00  21.953684\n",
       "2014-04-01 00:20:00  21.909120"
      ]
     },
     "execution_count": 6,
     "metadata": {},
     "output_type": "execute_result"
    }
   ],
   "source": [
    "data_root_url = \"https://raw.githubusercontent.com/numenta/NAB/master/data/\"\n",
    "\n",
    "df_training_suffix = \"artificialNoAnomaly/art_daily_small_noise.csv\"\n",
    "df_training_url = data_root_url + df_training_suffix\n",
    "\n",
    "df_training = pd.read_csv(df_training_url, parse_dates=True, index_col='timestamp')\n",
    "\n",
    "df_training.head()"
   ]
  },
  {
   "cell_type": "code",
   "execution_count": 7,
   "id": "ce850d2f",
   "metadata": {},
   "outputs": [
    {
     "data": {
      "text/html": [
       "<div>\n",
       "<style scoped>\n",
       "    .dataframe tbody tr th:only-of-type {\n",
       "        vertical-align: middle;\n",
       "    }\n",
       "\n",
       "    .dataframe tbody tr th {\n",
       "        vertical-align: top;\n",
       "    }\n",
       "\n",
       "    .dataframe thead th {\n",
       "        text-align: right;\n",
       "    }\n",
       "</style>\n",
       "<table border=\"1\" class=\"dataframe\">\n",
       "  <thead>\n",
       "    <tr style=\"text-align: right;\">\n",
       "      <th></th>\n",
       "      <th>value</th>\n",
       "    </tr>\n",
       "    <tr>\n",
       "      <th>timestamp</th>\n",
       "      <th></th>\n",
       "    </tr>\n",
       "  </thead>\n",
       "  <tbody>\n",
       "    <tr>\n",
       "      <th>2014-04-01 00:00:00</th>\n",
       "      <td>19.761252</td>\n",
       "    </tr>\n",
       "    <tr>\n",
       "      <th>2014-04-01 00:05:00</th>\n",
       "      <td>20.500833</td>\n",
       "    </tr>\n",
       "    <tr>\n",
       "      <th>2014-04-01 00:10:00</th>\n",
       "      <td>19.961641</td>\n",
       "    </tr>\n",
       "    <tr>\n",
       "      <th>2014-04-01 00:15:00</th>\n",
       "      <td>21.490266</td>\n",
       "    </tr>\n",
       "    <tr>\n",
       "      <th>2014-04-01 00:20:00</th>\n",
       "      <td>20.187739</td>\n",
       "    </tr>\n",
       "  </tbody>\n",
       "</table>\n",
       "</div>"
      ],
      "text/plain": [
       "                         value\n",
       "timestamp                     \n",
       "2014-04-01 00:00:00  19.761252\n",
       "2014-04-01 00:05:00  20.500833\n",
       "2014-04-01 00:10:00  19.961641\n",
       "2014-04-01 00:15:00  21.490266\n",
       "2014-04-01 00:20:00  20.187739"
      ]
     },
     "execution_count": 7,
     "metadata": {},
     "output_type": "execute_result"
    }
   ],
   "source": [
    "df_test_suffix = \"artificialWithAnomaly/art_daily_jumpsup.csv\"\n",
    "df_test_url = data_root_url + df_test_suffix\n",
    "df_test = pd.read_csv(\n",
    "    df_test_url, parse_dates=True, index_col=\"timestamp\"\n",
    ")\n",
    "df_test.head()"
   ]
  },
  {
   "cell_type": "markdown",
   "id": "8ddda1fd",
   "metadata": {},
   "source": [
    "## Plot data\n",
    "\n",
    "Time to see how the data looks like and detect if there are any anomalies"
   ]
  },
  {
   "cell_type": "code",
   "execution_count": 8,
   "id": "2b838c4c",
   "metadata": {},
   "outputs": [
    {
     "data": {
      "image/png": "[encoded data removed]",
      "text/plain": [
       "<Figure size 432x288 with 1 Axes>"
      ]
     },
     "metadata": {
      "needs_background": "light"
     },
     "output_type": "display_data"
    }
   ],
   "source": [
    "# For the training data, we can visualize it as follows\n",
    "fig, ax = plt.subplots()\n",
    "df_training.plot(legend=False, ax=ax)\n",
    "plt.show()"
   ]
  },
  {
   "cell_type": "code",
   "execution_count": 9,
   "id": "0a7af9cf",
   "metadata": {},
   "outputs": [
    {
     "data": {
      "image/png": "[encoded data removed]",
      "text/plain": [
       "<Figure size 432x288 with 1 Axes>"
      ]
     },
     "metadata": {
      "needs_background": "light"
     },
     "output_type": "display_data"
    }
   ],
   "source": [
    "# For the test data, we can visualize it as follows\n",
    "fig, ax = plt.subplots()\n",
    "df_test.plot(legend=False, ax=ax)\n",
    "plt.show()"
   ]
  },
  {
   "cell_type": "markdown",
   "id": "82de3115",
   "metadata": {},
   "source": [
    "Clearly, we can see there is a higher value than expected for this dataset. Now it is time for our model to predict if it detects it properly as an anomaly."
   ]
  },
  {
   "cell_type": "markdown",
   "id": "44a121eb",
   "metadata": {},
   "source": [
    "### Exploratory analysis\n",
    "\n",
    "We will explore a bit deeper how the data looks like, and what are the values expected to be represented under statistic models.\n",
    "\n",
    "For that, we can make use of the describe method as below"
   ]
  },
  {
   "cell_type": "code",
   "execution_count": 10,
   "id": "be477daa",
   "metadata": {},
   "outputs": [
    {
     "data": {
      "text/html": [
       "<div>\n",
       "<style scoped>\n",
       "    .dataframe tbody tr th:only-of-type {\n",
       "        vertical-align: middle;\n",
       "    }\n",
       "\n",
       "    .dataframe tbody tr th {\n",
       "        vertical-align: top;\n",
       "    }\n",
       "\n",
       "    .dataframe thead th {\n",
       "        text-align: right;\n",
       "    }\n",
       "</style>\n",
       "<table border=\"1\" class=\"dataframe\">\n",
       "  <thead>\n",
       "    <tr style=\"text-align: right;\">\n",
       "      <th></th>\n",
       "      <th>value</th>\n",
       "    </tr>\n",
       "  </thead>\n",
       "  <tbody>\n",
       "    <tr>\n",
       "      <th>count</th>\n",
       "      <td>4032.000000</td>\n",
       "    </tr>\n",
       "    <tr>\n",
       "      <th>mean</th>\n",
       "      <td>42.438353</td>\n",
       "    </tr>\n",
       "    <tr>\n",
       "      <th>std</th>\n",
       "      <td>28.077122</td>\n",
       "    </tr>\n",
       "    <tr>\n",
       "      <th>min</th>\n",
       "      <td>18.000964</td>\n",
       "    </tr>\n",
       "    <tr>\n",
       "      <th>25%</th>\n",
       "      <td>19.841390</td>\n",
       "    </tr>\n",
       "    <tr>\n",
       "      <th>50%</th>\n",
       "      <td>21.608487</td>\n",
       "    </tr>\n",
       "    <tr>\n",
       "      <th>75%</th>\n",
       "      <td>75.450282</td>\n",
       "    </tr>\n",
       "    <tr>\n",
       "      <th>max</th>\n",
       "      <td>87.976128</td>\n",
       "    </tr>\n",
       "  </tbody>\n",
       "</table>\n",
       "</div>"
      ],
      "text/plain": [
       "             value\n",
       "count  4032.000000\n",
       "mean     42.438353\n",
       "std      28.077122\n",
       "min      18.000964\n",
       "25%      19.841390\n",
       "50%      21.608487\n",
       "75%      75.450282\n",
       "max      87.976128"
      ]
     },
     "execution_count": 10,
     "metadata": {},
     "output_type": "execute_result"
    }
   ],
   "source": [
    "df_training.describe()"
   ]
  },
  {
   "cell_type": "markdown",
   "id": "3e5af595",
   "metadata": {},
   "source": [
    "### Create sequences \n",
    "There is new value coming up every 5 min, so 12 every hour and 12*24 = 288 every day. as the data covers 14 days, we will have 4032 data points"
   ]
  },
  {
   "cell_type": "code",
   "execution_count": 15,
   "id": "4f4b687f",
   "metadata": {},
   "outputs": [
    {
     "name": "stdout",
     "output_type": "stream",
     "text": [
      "Number of training samples: 4032\n",
      "training samples:                         value\n",
      "timestamp                    \n",
      "2014-04-01 00:00:00 -0.858829\n",
      "2014-04-01 00:05:00 -0.728993\n",
      "2014-04-01 00:10:00 -0.848148\n",
      "2014-04-01 00:15:00 -0.729586\n",
      "2014-04-01 00:20:00 -0.731173\n",
      "...                       ...\n",
      "2014-04-14 23:35:00 -0.791647\n",
      "2014-04-14 23:40:00 -0.780255\n",
      "2014-04-14 23:45:00 -0.833640\n",
      "2014-04-14 23:50:00 -0.735102\n",
      "2014-04-14 23:55:00 -0.846089\n",
      "\n",
      "[4032 rows x 1 columns]\n"
     ]
    }
   ],
   "source": [
    "# Normalize and save the mean and std we get,\n",
    "# for normalizing test data.\n",
    "training_mean = df_training.mean()\n",
    "training_std = df_training.std()\n",
    "df_training_value = (df_training - training_mean) / training_std\n",
    "print(\"Number of training samples:\", len(df_training_value))\n",
    "print(\"training samples:\", df_training_value)\n"
   ]
  },
  {
   "cell_type": "code",
   "execution_count": 39,
   "id": "76348cbb",
   "metadata": {},
   "outputs": [
    {
     "data": {
      "text/plain": [
       "(3745, 288, 1)"
      ]
     },
     "execution_count": 39,
     "metadata": {},
     "output_type": "execute_result"
    }
   ],
   "source": [
    "TIME_STEPS = 288\n",
    "\n",
    "def create_sequences(values, time_steps=TIME_STEPS):\n",
    "    output =  []\n",
    "    for i in range(len(values) - time_steps +1):\n",
    "        output.append(values[i:(i+time_steps)])\n",
    "    return np.stack(output)\n",
    "\n",
    "\n",
    "x_train = create_sequences(df_training_value.values)\n",
    "x_train.shape\n"
   ]
  },
  {
   "cell_type": "markdown",
   "id": "24852628",
   "metadata": {},
   "source": [
    "### Build the model\n",
    "\n",
    "Now it is time to use the training dataset as input of the convolutional reconstruction autoencoder model. This model has as input shape the batch_size, sequence_length, num_features and will return an output of the same length."
   ]
  },
  {
   "cell_type": "code",
   "execution_count": 24,
   "id": "c6c074a6",
   "metadata": {},
   "outputs": [
    {
     "name": "stdout",
     "output_type": "stream",
     "text": [
      "Model: \"sequential_1\"\n",
      "_________________________________________________________________\n",
      " Layer (type)                Output Shape              Param #   \n",
      "=================================================================\n",
      " conv1d_2 (Conv1D)           (None, 144, 32)           256       \n",
      "                                                                 \n",
      " dropout_2 (Dropout)         (None, 144, 32)           0         \n",
      "                                                                 \n",
      " conv1d_3 (Conv1D)           (None, 72, 16)            3600      \n",
      "                                                                 \n",
      " conv1d_transpose_3 (Conv1DT  (None, 144, 16)          1808      \n",
      " ranspose)                                                       \n",
      "                                                                 \n",
      " dropout_3 (Dropout)         (None, 144, 16)           0         \n",
      "                                                                 \n",
      " conv1d_transpose_4 (Conv1DT  (None, 288, 32)          3616      \n",
      " ranspose)                                                       \n",
      "                                                                 \n",
      " conv1d_transpose_5 (Conv1DT  (None, 288, 1)           225       \n",
      " ranspose)                                                       \n",
      "                                                                 \n",
      "=================================================================\n",
      "Total params: 9,505\n",
      "Trainable params: 9,505\n",
      "Non-trainable params: 0\n",
      "_________________________________________________________________\n"
     ]
    }
   ],
   "source": [
    "model = keras.Sequential(\n",
    "[\n",
    "    layers.Input(shape=(x_train.shape[1], x_train.shape[2])),\n",
    "    layers.Conv1D(filters=32, kernel_size= 7, padding='same', strides=2, activation='relu'),\n",
    "    layers.Dropout(rate=0.2),\n",
    "    layers.Conv1D(filters=16, kernel_size= 7, padding='same', strides=2, activation='relu'),\n",
    "    layers.Conv1DTranspose(filters=16, kernel_size= 7, padding='same', strides=2, activation='relu'),\n",
    "    layers.Dropout(rate=0.2),\n",
    "    layers.Conv1DTranspose(filters=32, kernel_size= 7, padding='same', strides=2, activation='relu'),\n",
    "    layers.Conv1DTranspose(filters=1, kernel_size= 7, padding='same', activation='relu')\n",
    "])\n",
    "model.compile(optimizer=keras.optimizers.Adam(learning_rate=0.001), loss='mse')\n",
    "model.summary()"
   ]
  },
  {
   "cell_type": "markdown",
   "id": "b7a5c99f",
   "metadata": {},
   "source": [
    "### Training the model\n",
    "\n",
    "It is time to use the training dataset as input and target for the model to be trained, as this is a reconstruction model"
   ]
  },
  {
   "cell_type": "code",
   "execution_count": 25,
   "id": "f784d0b2",
   "metadata": {},
   "outputs": [
    {
     "name": "stdout",
     "output_type": "stream",
     "text": [
      "Epoch 1/50\n",
      "27/27 [==============================] - 7s 197ms/step - loss: 0.5943 - val_loss: 0.4232\n",
      "Epoch 2/50\n",
      "27/27 [==============================] - 4s 145ms/step - loss: 0.4219 - val_loss: 0.4090\n",
      "Epoch 3/50\n",
      "27/27 [==============================] - 4s 150ms/step - loss: 0.4129 - val_loss: 0.4023\n",
      "Epoch 4/50\n",
      "27/27 [==============================] - 4s 154ms/step - loss: 0.4047 - val_loss: 0.3963\n",
      "Epoch 5/50\n",
      "27/27 [==============================] - 5s 185ms/step - loss: 0.4004 - val_loss: 0.3945\n",
      "Epoch 6/50\n",
      "27/27 [==============================] - 5s 188ms/step - loss: 0.3972 - val_loss: 0.3933\n",
      "Epoch 7/50\n",
      "27/27 [==============================] - 5s 188ms/step - loss: 0.3946 - val_loss: 0.3923\n",
      "Epoch 8/50\n",
      "27/27 [==============================] - 5s 196ms/step - loss: 0.3926 - val_loss: 0.3911\n",
      "Epoch 9/50\n",
      "27/27 [==============================] - 14s 529ms/step - loss: 0.3911 - val_loss: 0.3907\n",
      "Epoch 10/50\n",
      "27/27 [==============================] - 7s 237ms/step - loss: 0.3900 - val_loss: 0.3918\n",
      "Epoch 11/50\n",
      "27/27 [==============================] - 7s 263ms/step - loss: 0.3891 - val_loss: 0.3920\n",
      "Epoch 12/50\n",
      "27/27 [==============================] - 8s 304ms/step - loss: 0.3883 - val_loss: 0.3908\n",
      "Epoch 13/50\n",
      "27/27 [==============================] - 5s 181ms/step - loss: 0.3877 - val_loss: 0.3922\n",
      "Epoch 14/50\n",
      "27/27 [==============================] - 11s 406ms/step - loss: 0.3872 - val_loss: 0.3920\n"
     ]
    }
   ],
   "source": [
    "history = model.fit(\n",
    "x_train,\n",
    "x_train,\n",
    "epochs=50,\n",
    "batch_size=128,\n",
    "validation_split=0.1,\n",
    "callbacks=[keras.callbacks.EarlyStopping(monitor='val_loss', patience=5, mode='min')])\n",
    "\n"
   ]
  },
  {
   "cell_type": "code",
   "execution_count": 26,
   "id": "8a901439",
   "metadata": {},
   "outputs": [
    {
     "data": {
      "image/png": "[encoded data removed]",
      "text/plain": [
       "<Figure size 432x288 with 1 Axes>"
      ]
     },
     "metadata": {
      "needs_background": "light"
     },
     "output_type": "display_data"
    }
   ],
   "source": [
    "plt.plot(history.history['loss'], label='Training Loss')\n",
    "plt.plot(history.history['val_loss'], label='Validation Loss')\n",
    "plt.legend()\n",
    "plt.show()"
   ]
  },
  {
   "cell_type": "markdown",
   "id": "c9ab1eb5",
   "metadata": {},
   "source": [
    "### Time to detect anomalies\n",
    "\n",
    "Let's see how well our model can reconstruct anomalies from the input data.\n",
    "\n",
    "First is to find the MAE loss on training samples\n",
    "Then, find max MAE value as this is the worst value our model has predicted trying to guess a sample.That can be our threshold.\n",
    "So, if the model finds a value higher than that threshold means that the pattern is not corresponding to what the model is used to find. For that, we can call it as an anomaly.\n"
   ]
  },
  {
   "cell_type": "code",
   "execution_count": 27,
   "id": "8ab6d0c6",
   "metadata": {
    "scrolled": true
   },
   "outputs": [
    {
     "data": {
      "image/png": "[encoded data removed]",
      "text/plain": [
       "<Figure size 432x288 with 1 Axes>"
      ]
     },
     "metadata": {
      "needs_background": "light"
     },
     "output_type": "display_data"
    },
    {
     "name": "stdout",
     "output_type": "stream",
     "text": [
      "Reconstruction errror threshold 0.5489288909217599\n"
     ]
    }
   ],
   "source": [
    "x_train_pred = model.predict(x_train)\n",
    "train_mae_loss = np.mean(np.abs(x_train_pred - x_train), axis = 1)\n",
    "\n",
    "plt.hist(train_mae_loss, bins=30)\n",
    "plt.xlabel('Train MAE loss')\n",
    "plt.ylabel('# of samples')\n",
    "plt.show()\n",
    "\n",
    "# let's plot the reconstruction threshold\n",
    "threshold = np.max(train_mae_loss)\n",
    "print('Reconstruction errror threshold', threshold)\n"
   ]
  },
  {
   "cell_type": "markdown",
   "id": "d6be9382",
   "metadata": {},
   "source": [
    "### Let's compare our reconstruction\n",
    "We can see how our model has reconstructed the first sample. That's 288 timesteps from day 1 in the training dataset."
   ]
  },
  {
   "cell_type": "code",
   "execution_count": 28,
   "id": "e5c21d09",
   "metadata": {},
   "outputs": [
    {
     "data": {
      "image/png": "[encoded data removed]",
      "text/plain": [
       "<Figure size 432x288 with 1 Axes>"
      ]
     },
     "metadata": {
      "needs_background": "light"
     },
     "output_type": "display_data"
    }
   ],
   "source": [
    "# Checking how the first sequence is learnt\n",
    "plt.plot(x_train[0])\n",
    "plt.plot(x_train_pred[0])\n",
    "plt.show()\n"
   ]
  },
  {
   "cell_type": "markdown",
   "id": "71a6407d",
   "metadata": {},
   "source": [
    "### Normalize and prepare the test dataset"
   ]
  },
  {
   "cell_type": "code",
   "execution_count": 29,
   "id": "fcc97f04",
   "metadata": {},
   "outputs": [
    {
     "data": {
      "image/png": "[encoded data removed]",
      "text/plain": [
       "<Figure size 432x288 with 1 Axes>"
      ]
     },
     "metadata": {
      "needs_background": "light"
     },
     "output_type": "display_data"
    }
   ],
   "source": [
    "df_test_value = (df_test - training_mean) / training_std\n",
    "fig, ax = plt.subplots()\n",
    "df_test_value.plot(legend=False, ax=ax)\n",
    "plt.show()\n",
    "\n"
   ]
  },
  {
   "cell_type": "code",
   "execution_count": 30,
   "id": "1616fb84",
   "metadata": {},
   "outputs": [
    {
     "name": "stdout",
     "output_type": "stream",
     "text": [
      "Test input shape:  (3745, 288, 1)\n"
     ]
    }
   ],
   "source": [
    "\n",
    "# Create sequences from test values.\n",
    "x_test = create_sequences(df_test_value.values)\n",
    "print(\"Test input shape: \", x_test.shape)\n",
    "\n"
   ]
  },
  {
   "cell_type": "code",
   "execution_count": 31,
   "id": "cbc51e47",
   "metadata": {},
   "outputs": [
    {
     "data": {
      "image/png": "[encoded data removed]",
      "text/plain": [
       "<Figure size 432x288 with 1 Axes>"
      ]
     },
     "metadata": {
      "needs_background": "light"
     },
     "output_type": "display_data"
    }
   ],
   "source": [
    "\n",
    "# Get test MAE loss.\n",
    "x_test_pred = model.predict(x_test)\n",
    "test_mae_loss = np.mean(np.abs(x_test_pred - x_test), axis=1)\n",
    "test_mae_loss = test_mae_loss.reshape((-1))\n",
    "\n",
    "plt.hist(test_mae_loss, bins=50)\n",
    "plt.xlabel(\"test MAE loss\")\n",
    "plt.ylabel(\"No of samples\")\n",
    "plt.show()\n",
    "\n"
   ]
  },
  {
   "cell_type": "code",
   "execution_count": 32,
   "id": "df331947",
   "metadata": {},
   "outputs": [
    {
     "name": "stdout",
     "output_type": "stream",
     "text": [
      "Number of anomaly samples:  395\n",
      "Indices of anomaly samples:  (array([1658, 2522, 2701, 2702, 2703, 2704, 2705, 2706, 2707, 2708, 2709,\n",
      "       2710, 2711, 2712, 2713, 2714, 2715, 2716, 2717, 2718, 2719, 2720,\n",
      "       2721, 2722, 2723, 2724, 2725, 2726, 2727, 2728, 2729, 2730, 2731,\n",
      "       2732, 2733, 2734, 2735, 2736, 2737, 2738, 2739, 2740, 2741, 2742,\n",
      "       2743, 2744, 2745, 2746, 2747, 2748, 2749, 2750, 2751, 2752, 2753,\n",
      "       2754, 2755, 2756, 2757, 2758, 2759, 2760, 2761, 2762, 2763, 2764,\n",
      "       2765, 2766, 2767, 2768, 2769, 2770, 2771, 2772, 2773, 2774, 2775,\n",
      "       2776, 2777, 2778, 2779, 2780, 2781, 2782, 2783, 2784, 2785, 2786,\n",
      "       2787, 2788, 2789, 2790, 2791, 2792, 2793, 2794, 2795, 2796, 2797,\n",
      "       2798, 2799, 2800, 2801, 2802, 2803, 2804, 2805, 2806, 2807, 2808,\n",
      "       2809, 2810, 2811, 2812, 2813, 2814, 2815, 2816, 2817, 2818, 2819,\n",
      "       2820, 2821, 2822, 2823, 2824, 2825, 2826, 2827, 2828, 2829, 2830,\n",
      "       2831, 2832, 2833, 2834, 2835, 2836, 2837, 2838, 2839, 2840, 2841,\n",
      "       2842, 2843, 2844, 2845, 2846, 2847, 2848, 2849, 2850, 2851, 2852,\n",
      "       2853, 2854, 2855, 2856, 2857, 2858, 2859, 2860, 2861, 2862, 2863,\n",
      "       2864, 2865, 2866, 2867, 2868, 2869, 2870, 2871, 2872, 2873, 2874,\n",
      "       2875, 2876, 2877, 2878, 2879, 2880, 2881, 2882, 2883, 2884, 2885,\n",
      "       2886, 2887, 2888, 2889, 2890, 2891, 2892, 2893, 2894, 2895, 2896,\n",
      "       2897, 2898, 2899, 2900, 2901, 2902, 2903, 2904, 2905, 2906, 2907,\n",
      "       2908, 2909, 2910, 2911, 2912, 2913, 2914, 2915, 2916, 2917, 2918,\n",
      "       2919, 2920, 2921, 2922, 2923, 2924, 2925, 2926, 2927, 2928, 2929,\n",
      "       2930, 2931, 2932, 2933, 2934, 2935, 2936, 2937, 2938, 2939, 2940,\n",
      "       2941, 2942, 2943, 2944, 2945, 2946, 2947, 2948, 2949, 2950, 2951,\n",
      "       2952, 2953, 2954, 2955, 2956, 2957, 2958, 2959, 2960, 2961, 2962,\n",
      "       2963, 2964, 2965, 2966, 2967, 2968, 2969, 2970, 2971, 2972, 2973,\n",
      "       2974, 2975, 2976, 2977, 2978, 2979, 2980, 2981, 2982, 2983, 2984,\n",
      "       2985, 2986, 2987, 2988, 2989, 2990, 2991, 2992, 2993, 2994, 2995,\n",
      "       2996, 2997, 2998, 2999, 3000, 3001, 3002, 3003, 3004, 3005, 3006,\n",
      "       3007, 3008, 3009, 3010, 3011, 3012, 3013, 3014, 3015, 3016, 3017,\n",
      "       3018, 3019, 3020, 3021, 3022, 3023, 3024, 3025, 3026, 3027, 3028,\n",
      "       3029, 3030, 3031, 3032, 3033, 3034, 3035, 3036, 3037, 3038, 3039,\n",
      "       3040, 3041, 3042, 3043, 3044, 3045, 3046, 3047, 3048, 3049, 3050,\n",
      "       3051, 3052, 3053, 3054, 3055, 3056, 3057, 3058, 3059, 3060, 3061,\n",
      "       3062, 3063, 3064, 3065, 3066, 3067, 3068, 3069, 3070, 3071, 3072,\n",
      "       3073, 3074, 3075, 3076, 3077, 3078, 3079, 3080, 3081, 3082, 3083,\n",
      "       3084, 3085, 3086, 3087, 3088, 3089, 3090, 3091, 3092, 3093]),)\n"
     ]
    }
   ],
   "source": [
    "\n",
    "# Detect all the samples which are anomalies.\n",
    "anomalies = test_mae_loss > threshold\n",
    "print(\"Number of anomaly samples: \", np.sum(anomalies))\n",
    "print(\"Indices of anomaly samples: \", np.where(anomalies))\n"
   ]
  },
  {
   "cell_type": "markdown",
   "id": "7eccd9f0",
   "metadata": {},
   "source": [
    "### Plot anomalies\n",
    "\n",
    "We now know the samples of the data which are anomalies. With this, we will find the corresponding timestamps from the original test data. We will be using the following method to do that:\n",
    "\n",
    "Let's say time_steps = 3 and we have 10 training values. Our x_train will look like this:\n",
    "\n",
    "    0, 1, 2\n",
    "    1, 2, 3\n",
    "    2, 3, 4\n",
    "    3, 4, 5\n",
    "    4, 5, 6\n",
    "    5, 6, 7\n",
    "    6, 7, 8\n",
    "    7, 8, 9\n",
    "\n",
    "All except the initial and the final time_steps-1 data values, will appear in time_steps number of samples. So, if we know that the samples [(3, 4, 5), (4, 5, 6), (5, 6, 7)] are anomalies, we can say that the data point 5 is an anomaly."
   ]
  },
  {
   "cell_type": "code",
   "execution_count": 33,
   "id": "a96dce68",
   "metadata": {},
   "outputs": [],
   "source": [
    "# data i is an anomaly if samples [(i - timesteps + 1) to (i)] are anomalies\n",
    "anomalous_data_indices = []\n",
    "for data_idx in range(TIME_STEPS - 1, len(df_test_value) - TIME_STEPS + 1):\n",
    "    if np.all(anomalies[data_idx - TIME_STEPS + 1 : data_idx]):\n",
    "        anomalous_data_indices.append(data_idx)\n"
   ]
  },
  {
   "cell_type": "code",
   "execution_count": 34,
   "id": "3d7c33c8",
   "metadata": {},
   "outputs": [
    {
     "data": {
      "image/png": "[encoded data removed]",
      "text/plain": [
       "<Figure size 432x288 with 1 Axes>"
      ]
     },
     "metadata": {
      "needs_background": "light"
     },
     "output_type": "display_data"
    }
   ],
   "source": [
    "df_subset = df_test.iloc[anomalous_data_indices]\n",
    "fig, ax = plt.subplots()\n",
    "df_test.plot(legend=False, ax=ax)\n",
    "df_subset.plot(legend=False, ax=ax, color=\"r\")\n",
    "plt.show()\n"
   ]
  },
  {
   "cell_type": "code",
   "execution_count": 40,
   "id": "c9fd54c8",
   "metadata": {},
   "outputs": [
    {
     "name": "stdout",
     "output_type": "stream",
     "text": [
      "INFO:tensorflow:Assets written to: AnomaliesDetectorModel/assets\n"
     ]
    }
   ],
   "source": [
    "model.save('AnomaliesDetectorModel')"
   ]
  },
  {
   "cell_type": "code",
   "execution_count": 44,
   "id": "a008f5c4",
   "metadata": {},
   "outputs": [
    {
     "name": "stdout",
     "output_type": "stream",
     "text": [
      "Model: \"sequential_1\"\n",
      "_________________________________________________________________\n",
      " Layer (type)                Output Shape              Param #   \n",
      "=================================================================\n",
      " conv1d_2 (Conv1D)           (None, 144, 32)           256       \n",
      "                                                                 \n",
      " dropout_2 (Dropout)         (None, 144, 32)           0         \n",
      "                                                                 \n",
      " conv1d_3 (Conv1D)           (None, 72, 16)            3600      \n",
      "                                                                 \n",
      " conv1d_transpose_3 (Conv1DT  (None, 144, 16)          1808      \n",
      " ranspose)                                                       \n",
      "                                                                 \n",
      " dropout_3 (Dropout)         (None, 144, 16)           0         \n",
      "                                                                 \n",
      " conv1d_transpose_4 (Conv1DT  (None, 288, 32)          3616      \n",
      " ranspose)                                                       \n",
      "                                                                 \n",
      " conv1d_transpose_5 (Conv1DT  (None, 288, 1)           225       \n",
      " ranspose)                                                       \n",
      "                                                                 \n",
      "=================================================================\n",
      "Total params: 9,505\n",
      "Trainable params: 9,505\n",
      "Non-trainable params: 0\n",
      "_________________________________________________________________\n"
     ]
    }
   ],
   "source": [
    "# To reload the model we can do\n",
    "new_model = tf.keras.models.load_model('AnomaliesDetectorModel')\n",
    "\n",
    "# Check its architecture\n",
    "new_model.summary()"
   ]
  },
  {
   "cell_type": "code",
   "execution_count": 48,
   "id": "28acfd15",
   "metadata": {},
   "outputs": [
    {
     "data": {
      "text/plain": [
       "<AxesSubplot:>"
      ]
     },
     "execution_count": 48,
     "metadata": {},
     "output_type": "execute_result"
    },
    {
     "data": {
      "image/png": "[encoded data removed]",
      "text/plain": [
       "<Figure size 432x288 with 1 Axes>"
      ]
     },
     "metadata": {
      "needs_background": "light"
     },
     "output_type": "display_data"
    }
   ],
   "source": [
    "df_training.value.hist(bins=50)"
   ]
  },
  {
   "cell_type": "code",
   "execution_count": null,
   "id": "72d40c97",
   "metadata": {},
   "outputs": [],
   "source": []
  }
 ],
 "metadata": {
  "kernelspec": {
   "display_name": "mlops",
   "language": "python",
   "name": "mlops"
  },
  "language_info": {
   "codemirror_mode": {
    "name": "ipython",
    "version": 3
   },
   "file_extension": ".py",
   "mimetype": "text/x-python",
   "name": "python",
   "nbconvert_exporter": "python",
   "pygments_lexer": "ipython3",
   "version": "3.8.13"
  }
 },
 "nbformat": 4,
 "nbformat_minor": 5
}
